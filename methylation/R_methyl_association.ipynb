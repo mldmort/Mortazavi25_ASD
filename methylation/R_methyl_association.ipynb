{
 "cells": [
  {
   "cell_type": "code",
   "execution_count": 1,
   "id": "27bcfec2-2729-4999-af68-3761307d5bcb",
   "metadata": {},
   "outputs": [
    {
     "name": "stderr",
     "output_type": "stream",
     "text": [
      "Warning message:\n",
      "“package ‘survival’ was built under R version 4.0.5”\n",
      "Warning message:\n",
      "“package ‘ggplot2’ was built under R version 4.0.5”\n",
      "Warning message:\n",
      "“package ‘dplyr’ was built under R version 4.0.5”\n",
      "\n",
      "Attaching package: ‘dplyr’\n",
      "\n",
      "\n",
      "The following objects are masked from ‘package:stats’:\n",
      "\n",
      "    filter, lag\n",
      "\n",
      "\n",
      "The following objects are masked from ‘package:base’:\n",
      "\n",
      "    intersect, setdiff, setequal, union\n",
      "\n",
      "\n",
      "Warning message:\n",
      "“package ‘reshape2’ was built under R version 4.0.5”\n",
      "Warning message:\n",
      "“package ‘stringr’ was built under R version 4.0.5”\n"
     ]
    }
   ],
   "source": [
    "library(survival)\n",
    "library(ggplot2)\n",
    "library(dplyr)\n",
    "library(reshape2)\n",
    "library(stringr)"
   ]
  },
  {
   "cell_type": "code",
   "execution_count": 2,
   "id": "368540fb-0119-405c-b38d-6f0c57cfec66",
   "metadata": {},
   "outputs": [
    {
     "name": "stdout",
     "output_type": "stream",
     "text": [
      "[1] 121  26\n"
     ]
    },
    {
     "data": {
      "text/html": [
       "<table class=\"dataframe\">\n",
       "<caption>A data.frame: 6 × 26</caption>\n",
       "<thead>\n",
       "\t<tr><th></th><th scope=col>subject_id</th><th scope=col>sex</th><th scope=col>haplotype</th><th scope=col>mean_repeat_length</th><th scope=col>repeat_group</th><th scope=col>frac_hap_methyl</th><th scope=col>xci_frac_hap_methyl</th><th scope=col>num_reads</th><th scope=col>xci_num_reads</th><th scope=col>PC1</th><th scope=col>⋯</th><th scope=col>PC8</th><th scope=col>PC9</th><th scope=col>PC10</th><th scope=col>fid</th><th scope=col>rel</th><th scope=col>Platform</th><th scope=col>coverage</th><th scope=col>Affected</th><th scope=col>Phenotype</th><th scope=col>in_trios</th></tr>\n",
       "\t<tr><th></th><th scope=col>&lt;chr&gt;</th><th scope=col>&lt;chr&gt;</th><th scope=col>&lt;chr&gt;</th><th scope=col>&lt;dbl&gt;</th><th scope=col>&lt;chr&gt;</th><th scope=col>&lt;dbl&gt;</th><th scope=col>&lt;dbl&gt;</th><th scope=col>&lt;dbl&gt;</th><th scope=col>&lt;dbl&gt;</th><th scope=col>&lt;dbl&gt;</th><th scope=col>⋯</th><th scope=col>&lt;dbl&gt;</th><th scope=col>&lt;dbl&gt;</th><th scope=col>&lt;dbl&gt;</th><th scope=col>&lt;chr&gt;</th><th scope=col>&lt;chr&gt;</th><th scope=col>&lt;chr&gt;</th><th scope=col>&lt;dbl&gt;</th><th scope=col>&lt;chr&gt;</th><th scope=col>&lt;int&gt;</th><th scope=col>&lt;lgl&gt;</th></tr>\n",
       "</thead>\n",
       "<tbody>\n",
       "\t<tr><th scope=row>1</th><td>REACH000066</td><td>Female</td><td>h2</td><td>31.33333</td><td>26-34 CGG</td><td>0.0000000</td><td>0.5000000</td><td>3</td><td> 2</td><td> 0.24311740</td><td>⋯</td><td> 0.008261180</td><td>-0.011999650</td><td>-0.009906087</td><td>F0065</td><td>Mom    </td><td>PB</td><td>1.61</td><td>No </td><td>0</td><td>TRUE</td></tr>\n",
       "\t<tr><th scope=row>2</th><td>REACH000087</td><td>Female</td><td>h2</td><td>29.50000</td><td>26-34 CGG</td><td>0.7500000</td><td>0.6666667</td><td>4</td><td> 9</td><td> 0.12996800</td><td>⋯</td><td> 0.014468340</td><td> 0.006253360</td><td>-0.018303350</td><td>F0078</td><td>Mom    </td><td>PB</td><td>2.75</td><td>No </td><td>0</td><td>TRUE</td></tr>\n",
       "\t<tr><th scope=row>3</th><td>REACH000089</td><td>Female</td><td>h2</td><td>30.33333</td><td>26-34 CGG</td><td>0.6666667</td><td>1.0000000</td><td>3</td><td> 3</td><td> 0.04987969</td><td>⋯</td><td> 0.014418170</td><td>-0.017609010</td><td>-0.005675884</td><td>F0078</td><td>Sibling</td><td>PB</td><td>3.27</td><td>Yes</td><td>1</td><td>TRUE</td></tr>\n",
       "\t<tr><th scope=row>4</th><td>REACH000092</td><td>Female</td><td>h2</td><td>29.80000</td><td>26-34 CGG</td><td>0.6000000</td><td>0.7777778</td><td>5</td><td> 9</td><td>-0.02851068</td><td>⋯</td><td> 0.004610759</td><td> 0.015595510</td><td> 0.030866010</td><td>F0081</td><td>Proband</td><td>PB</td><td>4.89</td><td>Yes</td><td>1</td><td>TRUE</td></tr>\n",
       "\t<tr><th scope=row>5</th><td>REACH000093</td><td>Female</td><td>h1</td><td>29.25000</td><td>26-34 CGG</td><td>1.0000000</td><td>0.2777778</td><td>4</td><td>18</td><td>-0.02708236</td><td>⋯</td><td>-0.011024060</td><td> 0.005814124</td><td>-0.009495539</td><td>F0081</td><td>Mom    </td><td>PB</td><td>4.63</td><td>No </td><td>0</td><td>TRUE</td></tr>\n",
       "\t<tr><th scope=row>6</th><td>REACH000220</td><td>Female</td><td>h1</td><td>29.00000</td><td>26-34 CGG</td><td>0.2500000</td><td>0.3636364</td><td>4</td><td>11</td><td> 0.23317990</td><td>⋯</td><td> 0.016309370</td><td>-0.024763600</td><td>-0.002125482</td><td>F0154</td><td>Mom    </td><td>PB</td><td>3.82</td><td>No </td><td>0</td><td>TRUE</td></tr>\n",
       "</tbody>\n",
       "</table>\n"
      ],
      "text/latex": [
       "A data.frame: 6 × 26\n",
       "\\begin{tabular}{r|lllllllllllllllllllll}\n",
       "  & subject\\_id & sex & haplotype & mean\\_repeat\\_length & repeat\\_group & frac\\_hap\\_methyl & xci\\_frac\\_hap\\_methyl & num\\_reads & xci\\_num\\_reads & PC1 & ⋯ & PC8 & PC9 & PC10 & fid & rel & Platform & coverage & Affected & Phenotype & in\\_trios\\\\\n",
       "  & <chr> & <chr> & <chr> & <dbl> & <chr> & <dbl> & <dbl> & <dbl> & <dbl> & <dbl> & ⋯ & <dbl> & <dbl> & <dbl> & <chr> & <chr> & <chr> & <dbl> & <chr> & <int> & <lgl>\\\\\n",
       "\\hline\n",
       "\t1 & REACH000066 & Female & h2 & 31.33333 & 26-34 CGG & 0.0000000 & 0.5000000 & 3 &  2 &  0.24311740 & ⋯ &  0.008261180 & -0.011999650 & -0.009906087 & F0065 & Mom     & PB & 1.61 & No  & 0 & TRUE\\\\\n",
       "\t2 & REACH000087 & Female & h2 & 29.50000 & 26-34 CGG & 0.7500000 & 0.6666667 & 4 &  9 &  0.12996800 & ⋯ &  0.014468340 &  0.006253360 & -0.018303350 & F0078 & Mom     & PB & 2.75 & No  & 0 & TRUE\\\\\n",
       "\t3 & REACH000089 & Female & h2 & 30.33333 & 26-34 CGG & 0.6666667 & 1.0000000 & 3 &  3 &  0.04987969 & ⋯ &  0.014418170 & -0.017609010 & -0.005675884 & F0078 & Sibling & PB & 3.27 & Yes & 1 & TRUE\\\\\n",
       "\t4 & REACH000092 & Female & h2 & 29.80000 & 26-34 CGG & 0.6000000 & 0.7777778 & 5 &  9 & -0.02851068 & ⋯ &  0.004610759 &  0.015595510 &  0.030866010 & F0081 & Proband & PB & 4.89 & Yes & 1 & TRUE\\\\\n",
       "\t5 & REACH000093 & Female & h1 & 29.25000 & 26-34 CGG & 1.0000000 & 0.2777778 & 4 & 18 & -0.02708236 & ⋯ & -0.011024060 &  0.005814124 & -0.009495539 & F0081 & Mom     & PB & 4.63 & No  & 0 & TRUE\\\\\n",
       "\t6 & REACH000220 & Female & h1 & 29.00000 & 26-34 CGG & 0.2500000 & 0.3636364 & 4 & 11 &  0.23317990 & ⋯ &  0.016309370 & -0.024763600 & -0.002125482 & F0154 & Mom     & PB & 3.82 & No  & 0 & TRUE\\\\\n",
       "\\end{tabular}\n"
      ],
      "text/markdown": [
       "\n",
       "A data.frame: 6 × 26\n",
       "\n",
       "| <!--/--> | subject_id &lt;chr&gt; | sex &lt;chr&gt; | haplotype &lt;chr&gt; | mean_repeat_length &lt;dbl&gt; | repeat_group &lt;chr&gt; | frac_hap_methyl &lt;dbl&gt; | xci_frac_hap_methyl &lt;dbl&gt; | num_reads &lt;dbl&gt; | xci_num_reads &lt;dbl&gt; | PC1 &lt;dbl&gt; | ⋯ ⋯ | PC8 &lt;dbl&gt; | PC9 &lt;dbl&gt; | PC10 &lt;dbl&gt; | fid &lt;chr&gt; | rel &lt;chr&gt; | Platform &lt;chr&gt; | coverage &lt;dbl&gt; | Affected &lt;chr&gt; | Phenotype &lt;int&gt; | in_trios &lt;lgl&gt; |\n",
       "|---|---|---|---|---|---|---|---|---|---|---|---|---|---|---|---|---|---|---|---|---|---|\n",
       "| 1 | REACH000066 | Female | h2 | 31.33333 | 26-34 CGG | 0.0000000 | 0.5000000 | 3 |  2 |  0.24311740 | ⋯ |  0.008261180 | -0.011999650 | -0.009906087 | F0065 | Mom     | PB | 1.61 | No  | 0 | TRUE |\n",
       "| 2 | REACH000087 | Female | h2 | 29.50000 | 26-34 CGG | 0.7500000 | 0.6666667 | 4 |  9 |  0.12996800 | ⋯ |  0.014468340 |  0.006253360 | -0.018303350 | F0078 | Mom     | PB | 2.75 | No  | 0 | TRUE |\n",
       "| 3 | REACH000089 | Female | h2 | 30.33333 | 26-34 CGG | 0.6666667 | 1.0000000 | 3 |  3 |  0.04987969 | ⋯ |  0.014418170 | -0.017609010 | -0.005675884 | F0078 | Sibling | PB | 3.27 | Yes | 1 | TRUE |\n",
       "| 4 | REACH000092 | Female | h2 | 29.80000 | 26-34 CGG | 0.6000000 | 0.7777778 | 5 |  9 | -0.02851068 | ⋯ |  0.004610759 |  0.015595510 |  0.030866010 | F0081 | Proband | PB | 4.89 | Yes | 1 | TRUE |\n",
       "| 5 | REACH000093 | Female | h1 | 29.25000 | 26-34 CGG | 1.0000000 | 0.2777778 | 4 | 18 | -0.02708236 | ⋯ | -0.011024060 |  0.005814124 | -0.009495539 | F0081 | Mom     | PB | 4.63 | No  | 0 | TRUE |\n",
       "| 6 | REACH000220 | Female | h1 | 29.00000 | 26-34 CGG | 0.2500000 | 0.3636364 | 4 | 11 |  0.23317990 | ⋯ |  0.016309370 | -0.024763600 | -0.002125482 | F0154 | Mom     | PB | 3.82 | No  | 0 | TRUE |\n",
       "\n"
      ],
      "text/plain": [
       "  subject_id  sex    haplotype mean_repeat_length repeat_group frac_hap_methyl\n",
       "1 REACH000066 Female h2        31.33333           26-34 CGG    0.0000000      \n",
       "2 REACH000087 Female h2        29.50000           26-34 CGG    0.7500000      \n",
       "3 REACH000089 Female h2        30.33333           26-34 CGG    0.6666667      \n",
       "4 REACH000092 Female h2        29.80000           26-34 CGG    0.6000000      \n",
       "5 REACH000093 Female h1        29.25000           26-34 CGG    1.0000000      \n",
       "6 REACH000220 Female h1        29.00000           26-34 CGG    0.2500000      \n",
       "  xci_frac_hap_methyl num_reads xci_num_reads PC1         ⋯ PC8         \n",
       "1 0.5000000           3          2             0.24311740 ⋯  0.008261180\n",
       "2 0.6666667           4          9             0.12996800 ⋯  0.014468340\n",
       "3 1.0000000           3          3             0.04987969 ⋯  0.014418170\n",
       "4 0.7777778           5          9            -0.02851068 ⋯  0.004610759\n",
       "5 0.2777778           4         18            -0.02708236 ⋯ -0.011024060\n",
       "6 0.3636364           4         11             0.23317990 ⋯  0.016309370\n",
       "  PC9          PC10         fid   rel     Platform coverage Affected Phenotype\n",
       "1 -0.011999650 -0.009906087 F0065 Mom     PB       1.61     No       0        \n",
       "2  0.006253360 -0.018303350 F0078 Mom     PB       2.75     No       0        \n",
       "3 -0.017609010 -0.005675884 F0078 Sibling PB       3.27     Yes      1        \n",
       "4  0.015595510  0.030866010 F0081 Proband PB       4.89     Yes      1        \n",
       "5  0.005814124 -0.009495539 F0081 Mom     PB       4.63     No       0        \n",
       "6 -0.024763600 -0.002125482 F0154 Mom     PB       3.82     No       0        \n",
       "  in_trios\n",
       "1 TRUE    \n",
       "2 TRUE    \n",
       "3 TRUE    \n",
       "4 TRUE    \n",
       "5 TRUE    \n",
       "6 TRUE    "
      ]
     },
     "metadata": {},
     "output_type": "display_data"
    },
    {
     "name": "stdout",
     "output_type": "stream",
     "text": [
      "[1] 68 26\n"
     ]
    },
    {
     "data": {
      "text/html": [
       "<table class=\"dataframe\">\n",
       "<caption>A data.frame: 6 × 26</caption>\n",
       "<thead>\n",
       "\t<tr><th></th><th scope=col>subject_id</th><th scope=col>sex</th><th scope=col>haplotype</th><th scope=col>mean_repeat_length</th><th scope=col>repeat_group</th><th scope=col>frac_hap_methyl</th><th scope=col>xci_frac_hap_methyl</th><th scope=col>num_reads</th><th scope=col>xci_num_reads</th><th scope=col>PC1</th><th scope=col>⋯</th><th scope=col>PC8</th><th scope=col>PC9</th><th scope=col>PC10</th><th scope=col>fid</th><th scope=col>rel</th><th scope=col>Platform</th><th scope=col>coverage</th><th scope=col>Affected</th><th scope=col>Phenotype</th><th scope=col>in_trios</th></tr>\n",
       "\t<tr><th></th><th scope=col>&lt;chr&gt;</th><th scope=col>&lt;chr&gt;</th><th scope=col>&lt;chr&gt;</th><th scope=col>&lt;dbl&gt;</th><th scope=col>&lt;chr&gt;</th><th scope=col>&lt;dbl&gt;</th><th scope=col>&lt;dbl&gt;</th><th scope=col>&lt;dbl&gt;</th><th scope=col>&lt;dbl&gt;</th><th scope=col>&lt;dbl&gt;</th><th scope=col>⋯</th><th scope=col>&lt;dbl&gt;</th><th scope=col>&lt;dbl&gt;</th><th scope=col>&lt;dbl&gt;</th><th scope=col>&lt;chr&gt;</th><th scope=col>&lt;chr&gt;</th><th scope=col>&lt;chr&gt;</th><th scope=col>&lt;dbl&gt;</th><th scope=col>&lt;chr&gt;</th><th scope=col>&lt;int&gt;</th><th scope=col>&lt;lgl&gt;</th></tr>\n",
       "</thead>\n",
       "<tbody>\n",
       "\t<tr><th scope=row>1</th><td>REACH000066</td><td>Female</td><td>h2</td><td>31.33333</td><td>26-34 CGG</td><td>0.0000000</td><td>0.5000000</td><td>3</td><td> 2</td><td> 0.24311740</td><td>⋯</td><td> 0.008261180</td><td>-0.011999650</td><td>-0.009906087</td><td>F0065</td><td>Mom    </td><td>PB</td><td>1.61</td><td>No </td><td>0</td><td>TRUE</td></tr>\n",
       "\t<tr><th scope=row>2</th><td>REACH000087</td><td>Female</td><td>h2</td><td>29.50000</td><td>26-34 CGG</td><td>0.7500000</td><td>0.6666667</td><td>4</td><td> 9</td><td> 0.12996800</td><td>⋯</td><td> 0.014468340</td><td> 0.006253360</td><td>-0.018303350</td><td>F0078</td><td>Mom    </td><td>PB</td><td>2.75</td><td>No </td><td>0</td><td>TRUE</td></tr>\n",
       "\t<tr><th scope=row>3</th><td>REACH000089</td><td>Female</td><td>h2</td><td>30.33333</td><td>26-34 CGG</td><td>0.6666667</td><td>1.0000000</td><td>3</td><td> 3</td><td> 0.04987969</td><td>⋯</td><td> 0.014418170</td><td>-0.017609010</td><td>-0.005675884</td><td>F0078</td><td>Sibling</td><td>PB</td><td>3.27</td><td>Yes</td><td>1</td><td>TRUE</td></tr>\n",
       "\t<tr><th scope=row>4</th><td>REACH000092</td><td>Female</td><td>h2</td><td>29.80000</td><td>26-34 CGG</td><td>0.6000000</td><td>0.7777778</td><td>5</td><td> 9</td><td>-0.02851068</td><td>⋯</td><td> 0.004610759</td><td> 0.015595510</td><td> 0.030866010</td><td>F0081</td><td>Proband</td><td>PB</td><td>4.89</td><td>Yes</td><td>1</td><td>TRUE</td></tr>\n",
       "\t<tr><th scope=row>5</th><td>REACH000093</td><td>Female</td><td>h1</td><td>29.25000</td><td>26-34 CGG</td><td>1.0000000</td><td>0.2777778</td><td>4</td><td>18</td><td>-0.02708236</td><td>⋯</td><td>-0.011024060</td><td> 0.005814124</td><td>-0.009495539</td><td>F0081</td><td>Mom    </td><td>PB</td><td>4.63</td><td>No </td><td>0</td><td>TRUE</td></tr>\n",
       "\t<tr><th scope=row>6</th><td>REACH000220</td><td>Female</td><td>h1</td><td>29.00000</td><td>26-34 CGG</td><td>0.2500000</td><td>0.3636364</td><td>4</td><td>11</td><td> 0.23317990</td><td>⋯</td><td> 0.016309370</td><td>-0.024763600</td><td>-0.002125482</td><td>F0154</td><td>Mom    </td><td>PB</td><td>3.82</td><td>No </td><td>0</td><td>TRUE</td></tr>\n",
       "</tbody>\n",
       "</table>\n"
      ],
      "text/latex": [
       "A data.frame: 6 × 26\n",
       "\\begin{tabular}{r|lllllllllllllllllllll}\n",
       "  & subject\\_id & sex & haplotype & mean\\_repeat\\_length & repeat\\_group & frac\\_hap\\_methyl & xci\\_frac\\_hap\\_methyl & num\\_reads & xci\\_num\\_reads & PC1 & ⋯ & PC8 & PC9 & PC10 & fid & rel & Platform & coverage & Affected & Phenotype & in\\_trios\\\\\n",
       "  & <chr> & <chr> & <chr> & <dbl> & <chr> & <dbl> & <dbl> & <dbl> & <dbl> & <dbl> & ⋯ & <dbl> & <dbl> & <dbl> & <chr> & <chr> & <chr> & <dbl> & <chr> & <int> & <lgl>\\\\\n",
       "\\hline\n",
       "\t1 & REACH000066 & Female & h2 & 31.33333 & 26-34 CGG & 0.0000000 & 0.5000000 & 3 &  2 &  0.24311740 & ⋯ &  0.008261180 & -0.011999650 & -0.009906087 & F0065 & Mom     & PB & 1.61 & No  & 0 & TRUE\\\\\n",
       "\t2 & REACH000087 & Female & h2 & 29.50000 & 26-34 CGG & 0.7500000 & 0.6666667 & 4 &  9 &  0.12996800 & ⋯ &  0.014468340 &  0.006253360 & -0.018303350 & F0078 & Mom     & PB & 2.75 & No  & 0 & TRUE\\\\\n",
       "\t3 & REACH000089 & Female & h2 & 30.33333 & 26-34 CGG & 0.6666667 & 1.0000000 & 3 &  3 &  0.04987969 & ⋯ &  0.014418170 & -0.017609010 & -0.005675884 & F0078 & Sibling & PB & 3.27 & Yes & 1 & TRUE\\\\\n",
       "\t4 & REACH000092 & Female & h2 & 29.80000 & 26-34 CGG & 0.6000000 & 0.7777778 & 5 &  9 & -0.02851068 & ⋯ &  0.004610759 &  0.015595510 &  0.030866010 & F0081 & Proband & PB & 4.89 & Yes & 1 & TRUE\\\\\n",
       "\t5 & REACH000093 & Female & h1 & 29.25000 & 26-34 CGG & 1.0000000 & 0.2777778 & 4 & 18 & -0.02708236 & ⋯ & -0.011024060 &  0.005814124 & -0.009495539 & F0081 & Mom     & PB & 4.63 & No  & 0 & TRUE\\\\\n",
       "\t6 & REACH000220 & Female & h1 & 29.00000 & 26-34 CGG & 0.2500000 & 0.3636364 & 4 & 11 &  0.23317990 & ⋯ &  0.016309370 & -0.024763600 & -0.002125482 & F0154 & Mom     & PB & 3.82 & No  & 0 & TRUE\\\\\n",
       "\\end{tabular}\n"
      ],
      "text/markdown": [
       "\n",
       "A data.frame: 6 × 26\n",
       "\n",
       "| <!--/--> | subject_id &lt;chr&gt; | sex &lt;chr&gt; | haplotype &lt;chr&gt; | mean_repeat_length &lt;dbl&gt; | repeat_group &lt;chr&gt; | frac_hap_methyl &lt;dbl&gt; | xci_frac_hap_methyl &lt;dbl&gt; | num_reads &lt;dbl&gt; | xci_num_reads &lt;dbl&gt; | PC1 &lt;dbl&gt; | ⋯ ⋯ | PC8 &lt;dbl&gt; | PC9 &lt;dbl&gt; | PC10 &lt;dbl&gt; | fid &lt;chr&gt; | rel &lt;chr&gt; | Platform &lt;chr&gt; | coverage &lt;dbl&gt; | Affected &lt;chr&gt; | Phenotype &lt;int&gt; | in_trios &lt;lgl&gt; |\n",
       "|---|---|---|---|---|---|---|---|---|---|---|---|---|---|---|---|---|---|---|---|---|---|\n",
       "| 1 | REACH000066 | Female | h2 | 31.33333 | 26-34 CGG | 0.0000000 | 0.5000000 | 3 |  2 |  0.24311740 | ⋯ |  0.008261180 | -0.011999650 | -0.009906087 | F0065 | Mom     | PB | 1.61 | No  | 0 | TRUE |\n",
       "| 2 | REACH000087 | Female | h2 | 29.50000 | 26-34 CGG | 0.7500000 | 0.6666667 | 4 |  9 |  0.12996800 | ⋯ |  0.014468340 |  0.006253360 | -0.018303350 | F0078 | Mom     | PB | 2.75 | No  | 0 | TRUE |\n",
       "| 3 | REACH000089 | Female | h2 | 30.33333 | 26-34 CGG | 0.6666667 | 1.0000000 | 3 |  3 |  0.04987969 | ⋯ |  0.014418170 | -0.017609010 | -0.005675884 | F0078 | Sibling | PB | 3.27 | Yes | 1 | TRUE |\n",
       "| 4 | REACH000092 | Female | h2 | 29.80000 | 26-34 CGG | 0.6000000 | 0.7777778 | 5 |  9 | -0.02851068 | ⋯ |  0.004610759 |  0.015595510 |  0.030866010 | F0081 | Proband | PB | 4.89 | Yes | 1 | TRUE |\n",
       "| 5 | REACH000093 | Female | h1 | 29.25000 | 26-34 CGG | 1.0000000 | 0.2777778 | 4 | 18 | -0.02708236 | ⋯ | -0.011024060 |  0.005814124 | -0.009495539 | F0081 | Mom     | PB | 4.63 | No  | 0 | TRUE |\n",
       "| 6 | REACH000220 | Female | h1 | 29.00000 | 26-34 CGG | 0.2500000 | 0.3636364 | 4 | 11 |  0.23317990 | ⋯ |  0.016309370 | -0.024763600 | -0.002125482 | F0154 | Mom     | PB | 3.82 | No  | 0 | TRUE |\n",
       "\n"
      ],
      "text/plain": [
       "  subject_id  sex    haplotype mean_repeat_length repeat_group frac_hap_methyl\n",
       "1 REACH000066 Female h2        31.33333           26-34 CGG    0.0000000      \n",
       "2 REACH000087 Female h2        29.50000           26-34 CGG    0.7500000      \n",
       "3 REACH000089 Female h2        30.33333           26-34 CGG    0.6666667      \n",
       "4 REACH000092 Female h2        29.80000           26-34 CGG    0.6000000      \n",
       "5 REACH000093 Female h1        29.25000           26-34 CGG    1.0000000      \n",
       "6 REACH000220 Female h1        29.00000           26-34 CGG    0.2500000      \n",
       "  xci_frac_hap_methyl num_reads xci_num_reads PC1         ⋯ PC8         \n",
       "1 0.5000000           3          2             0.24311740 ⋯  0.008261180\n",
       "2 0.6666667           4          9             0.12996800 ⋯  0.014468340\n",
       "3 1.0000000           3          3             0.04987969 ⋯  0.014418170\n",
       "4 0.7777778           5          9            -0.02851068 ⋯  0.004610759\n",
       "5 0.2777778           4         18            -0.02708236 ⋯ -0.011024060\n",
       "6 0.3636364           4         11             0.23317990 ⋯  0.016309370\n",
       "  PC9          PC10         fid   rel     Platform coverage Affected Phenotype\n",
       "1 -0.011999650 -0.009906087 F0065 Mom     PB       1.61     No       0        \n",
       "2  0.006253360 -0.018303350 F0078 Mom     PB       2.75     No       0        \n",
       "3 -0.017609010 -0.005675884 F0078 Sibling PB       3.27     Yes      1        \n",
       "4  0.015595510  0.030866010 F0081 Proband PB       4.89     Yes      1        \n",
       "5  0.005814124 -0.009495539 F0081 Mom     PB       4.63     No       0        \n",
       "6 -0.024763600 -0.002125482 F0154 Mom     PB       3.82     No       0        \n",
       "  in_trios\n",
       "1 TRUE    \n",
       "2 TRUE    \n",
       "3 TRUE    \n",
       "4 TRUE    \n",
       "5 TRUE    \n",
       "6 TRUE    "
      ]
     },
     "metadata": {},
     "output_type": "display_data"
    },
    {
     "name": "stdout",
     "output_type": "stream",
     "text": [
      "[1] 53 26\n"
     ]
    },
    {
     "data": {
      "text/html": [
       "<table class=\"dataframe\">\n",
       "<caption>A data.frame: 6 × 26</caption>\n",
       "<thead>\n",
       "\t<tr><th></th><th scope=col>subject_id</th><th scope=col>sex</th><th scope=col>haplotype</th><th scope=col>mean_repeat_length</th><th scope=col>repeat_group</th><th scope=col>frac_hap_methyl</th><th scope=col>xci_frac_hap_methyl</th><th scope=col>num_reads</th><th scope=col>xci_num_reads</th><th scope=col>PC1</th><th scope=col>⋯</th><th scope=col>PC8</th><th scope=col>PC9</th><th scope=col>PC10</th><th scope=col>fid</th><th scope=col>rel</th><th scope=col>Platform</th><th scope=col>coverage</th><th scope=col>Affected</th><th scope=col>Phenotype</th><th scope=col>in_trios</th></tr>\n",
       "\t<tr><th></th><th scope=col>&lt;chr&gt;</th><th scope=col>&lt;chr&gt;</th><th scope=col>&lt;chr&gt;</th><th scope=col>&lt;dbl&gt;</th><th scope=col>&lt;chr&gt;</th><th scope=col>&lt;dbl&gt;</th><th scope=col>&lt;dbl&gt;</th><th scope=col>&lt;dbl&gt;</th><th scope=col>&lt;dbl&gt;</th><th scope=col>&lt;dbl&gt;</th><th scope=col>⋯</th><th scope=col>&lt;dbl&gt;</th><th scope=col>&lt;dbl&gt;</th><th scope=col>&lt;dbl&gt;</th><th scope=col>&lt;chr&gt;</th><th scope=col>&lt;chr&gt;</th><th scope=col>&lt;chr&gt;</th><th scope=col>&lt;dbl&gt;</th><th scope=col>&lt;chr&gt;</th><th scope=col>&lt;int&gt;</th><th scope=col>&lt;lgl&gt;</th></tr>\n",
       "</thead>\n",
       "<tbody>\n",
       "\t<tr><th scope=row>73</th><td>REACH000058</td><td>Male</td><td>hm</td><td>37.28571</td><td>≥35 CGG  </td><td>0</td><td>0</td><td>7</td><td>28</td><td> 0.002421759</td><td>⋯</td><td>-0.038326840</td><td>-0.011381190</td><td> 0.032497550</td><td>F0058</td><td>Proband</td><td>PB</td><td>6.19</td><td>Yes</td><td>1</td><td>TRUE</td></tr>\n",
       "\t<tr><th scope=row>74</th><td>REACH000122</td><td>Male</td><td>hm</td><td>30.20000</td><td>26-34 CGG</td><td>0</td><td>0</td><td>5</td><td>14</td><td> 0.022074320</td><td>⋯</td><td>-0.077099060</td><td> 0.004358785</td><td> 0.009872139</td><td>F0101</td><td>Dad    </td><td>PB</td><td>4.10</td><td>Yes</td><td>1</td><td>TRUE</td></tr>\n",
       "\t<tr><th scope=row>75</th><td>REACH000235</td><td>Male</td><td>hm</td><td>29.25000</td><td>26-34 CGG</td><td>0</td><td>0</td><td>4</td><td>17</td><td> 0.142714300</td><td>⋯</td><td>-0.003002574</td><td>-0.023609150</td><td>-0.000043000</td><td>F0161</td><td>Dad    </td><td>PB</td><td>5.07</td><td>No </td><td>0</td><td>TRUE</td></tr>\n",
       "\t<tr><th scope=row>77</th><td>REACH000288</td><td>Male</td><td>hm</td><td>30.00000</td><td>26-34 CGG</td><td>0</td><td>0</td><td>5</td><td>26</td><td>-0.028133930</td><td>⋯</td><td>-0.004032397</td><td>-0.026328550</td><td>-0.005905166</td><td>F0175</td><td>Proband</td><td>PB</td><td>7.92</td><td>Yes</td><td>1</td><td>TRUE</td></tr>\n",
       "\t<tr><th scope=row>78</th><td>REACH000292</td><td>Male</td><td>hm</td><td>30.00000</td><td>26-34 CGG</td><td>0</td><td>0</td><td>7</td><td>29</td><td>-0.028640350</td><td>⋯</td><td> 0.003469229</td><td>-0.025695860</td><td> 0.005337918</td><td>F0175</td><td>Sibling</td><td>PB</td><td>9.00</td><td>Yes</td><td>1</td><td>TRUE</td></tr>\n",
       "\t<tr><th scope=row>79</th><td>REACH000293</td><td>Male</td><td>hm</td><td>22.75000</td><td>≤25 CGG  </td><td>0</td><td>0</td><td>4</td><td>18</td><td>-0.032410840</td><td>⋯</td><td>-0.011840670</td><td> 0.008783066</td><td>-0.021109550</td><td>F0176</td><td>Proband</td><td>PB</td><td>3.50</td><td>Yes</td><td>1</td><td>TRUE</td></tr>\n",
       "</tbody>\n",
       "</table>\n"
      ],
      "text/latex": [
       "A data.frame: 6 × 26\n",
       "\\begin{tabular}{r|lllllllllllllllllllll}\n",
       "  & subject\\_id & sex & haplotype & mean\\_repeat\\_length & repeat\\_group & frac\\_hap\\_methyl & xci\\_frac\\_hap\\_methyl & num\\_reads & xci\\_num\\_reads & PC1 & ⋯ & PC8 & PC9 & PC10 & fid & rel & Platform & coverage & Affected & Phenotype & in\\_trios\\\\\n",
       "  & <chr> & <chr> & <chr> & <dbl> & <chr> & <dbl> & <dbl> & <dbl> & <dbl> & <dbl> & ⋯ & <dbl> & <dbl> & <dbl> & <chr> & <chr> & <chr> & <dbl> & <chr> & <int> & <lgl>\\\\\n",
       "\\hline\n",
       "\t73 & REACH000058 & Male & hm & 37.28571 & ≥35 CGG   & 0 & 0 & 7 & 28 &  0.002421759 & ⋯ & -0.038326840 & -0.011381190 &  0.032497550 & F0058 & Proband & PB & 6.19 & Yes & 1 & TRUE\\\\\n",
       "\t74 & REACH000122 & Male & hm & 30.20000 & 26-34 CGG & 0 & 0 & 5 & 14 &  0.022074320 & ⋯ & -0.077099060 &  0.004358785 &  0.009872139 & F0101 & Dad     & PB & 4.10 & Yes & 1 & TRUE\\\\\n",
       "\t75 & REACH000235 & Male & hm & 29.25000 & 26-34 CGG & 0 & 0 & 4 & 17 &  0.142714300 & ⋯ & -0.003002574 & -0.023609150 & -0.000043000 & F0161 & Dad     & PB & 5.07 & No  & 0 & TRUE\\\\\n",
       "\t77 & REACH000288 & Male & hm & 30.00000 & 26-34 CGG & 0 & 0 & 5 & 26 & -0.028133930 & ⋯ & -0.004032397 & -0.026328550 & -0.005905166 & F0175 & Proband & PB & 7.92 & Yes & 1 & TRUE\\\\\n",
       "\t78 & REACH000292 & Male & hm & 30.00000 & 26-34 CGG & 0 & 0 & 7 & 29 & -0.028640350 & ⋯ &  0.003469229 & -0.025695860 &  0.005337918 & F0175 & Sibling & PB & 9.00 & Yes & 1 & TRUE\\\\\n",
       "\t79 & REACH000293 & Male & hm & 22.75000 & ≤25 CGG   & 0 & 0 & 4 & 18 & -0.032410840 & ⋯ & -0.011840670 &  0.008783066 & -0.021109550 & F0176 & Proband & PB & 3.50 & Yes & 1 & TRUE\\\\\n",
       "\\end{tabular}\n"
      ],
      "text/markdown": [
       "\n",
       "A data.frame: 6 × 26\n",
       "\n",
       "| <!--/--> | subject_id &lt;chr&gt; | sex &lt;chr&gt; | haplotype &lt;chr&gt; | mean_repeat_length &lt;dbl&gt; | repeat_group &lt;chr&gt; | frac_hap_methyl &lt;dbl&gt; | xci_frac_hap_methyl &lt;dbl&gt; | num_reads &lt;dbl&gt; | xci_num_reads &lt;dbl&gt; | PC1 &lt;dbl&gt; | ⋯ ⋯ | PC8 &lt;dbl&gt; | PC9 &lt;dbl&gt; | PC10 &lt;dbl&gt; | fid &lt;chr&gt; | rel &lt;chr&gt; | Platform &lt;chr&gt; | coverage &lt;dbl&gt; | Affected &lt;chr&gt; | Phenotype &lt;int&gt; | in_trios &lt;lgl&gt; |\n",
       "|---|---|---|---|---|---|---|---|---|---|---|---|---|---|---|---|---|---|---|---|---|---|\n",
       "| 73 | REACH000058 | Male | hm | 37.28571 | ≥35 CGG   | 0 | 0 | 7 | 28 |  0.002421759 | ⋯ | -0.038326840 | -0.011381190 |  0.032497550 | F0058 | Proband | PB | 6.19 | Yes | 1 | TRUE |\n",
       "| 74 | REACH000122 | Male | hm | 30.20000 | 26-34 CGG | 0 | 0 | 5 | 14 |  0.022074320 | ⋯ | -0.077099060 |  0.004358785 |  0.009872139 | F0101 | Dad     | PB | 4.10 | Yes | 1 | TRUE |\n",
       "| 75 | REACH000235 | Male | hm | 29.25000 | 26-34 CGG | 0 | 0 | 4 | 17 |  0.142714300 | ⋯ | -0.003002574 | -0.023609150 | -0.000043000 | F0161 | Dad     | PB | 5.07 | No  | 0 | TRUE |\n",
       "| 77 | REACH000288 | Male | hm | 30.00000 | 26-34 CGG | 0 | 0 | 5 | 26 | -0.028133930 | ⋯ | -0.004032397 | -0.026328550 | -0.005905166 | F0175 | Proband | PB | 7.92 | Yes | 1 | TRUE |\n",
       "| 78 | REACH000292 | Male | hm | 30.00000 | 26-34 CGG | 0 | 0 | 7 | 29 | -0.028640350 | ⋯ |  0.003469229 | -0.025695860 |  0.005337918 | F0175 | Sibling | PB | 9.00 | Yes | 1 | TRUE |\n",
       "| 79 | REACH000293 | Male | hm | 22.75000 | ≤25 CGG   | 0 | 0 | 4 | 18 | -0.032410840 | ⋯ | -0.011840670 |  0.008783066 | -0.021109550 | F0176 | Proband | PB | 3.50 | Yes | 1 | TRUE |\n",
       "\n"
      ],
      "text/plain": [
       "   subject_id  sex  haplotype mean_repeat_length repeat_group frac_hap_methyl\n",
       "73 REACH000058 Male hm        37.28571           ≥35 CGG      0              \n",
       "74 REACH000122 Male hm        30.20000           26-34 CGG    0              \n",
       "75 REACH000235 Male hm        29.25000           26-34 CGG    0              \n",
       "77 REACH000288 Male hm        30.00000           26-34 CGG    0              \n",
       "78 REACH000292 Male hm        30.00000           26-34 CGG    0              \n",
       "79 REACH000293 Male hm        22.75000           ≤25 CGG      0              \n",
       "   xci_frac_hap_methyl num_reads xci_num_reads PC1          ⋯ PC8         \n",
       "73 0                   7         28             0.002421759 ⋯ -0.038326840\n",
       "74 0                   5         14             0.022074320 ⋯ -0.077099060\n",
       "75 0                   4         17             0.142714300 ⋯ -0.003002574\n",
       "77 0                   5         26            -0.028133930 ⋯ -0.004032397\n",
       "78 0                   7         29            -0.028640350 ⋯  0.003469229\n",
       "79 0                   4         18            -0.032410840 ⋯ -0.011840670\n",
       "   PC9          PC10         fid   rel     Platform coverage Affected Phenotype\n",
       "73 -0.011381190  0.032497550 F0058 Proband PB       6.19     Yes      1        \n",
       "74  0.004358785  0.009872139 F0101 Dad     PB       4.10     Yes      1        \n",
       "75 -0.023609150 -0.000043000 F0161 Dad     PB       5.07     No       0        \n",
       "77 -0.026328550 -0.005905166 F0175 Proband PB       7.92     Yes      1        \n",
       "78 -0.025695860  0.005337918 F0175 Sibling PB       9.00     Yes      1        \n",
       "79  0.008783066 -0.021109550 F0176 Proband PB       3.50     Yes      1        \n",
       "   in_trios\n",
       "73 TRUE    \n",
       "74 TRUE    \n",
       "75 TRUE    \n",
       "77 TRUE    \n",
       "78 TRUE    \n",
       "79 TRUE    "
      ]
     },
     "metadata": {},
     "output_type": "display_data"
    }
   ],
   "source": [
    "dir_out = 'plots/'\n",
    "file_main = 'outputs/methylation_table_complete_hps.tsv'\n",
    "df_main <- read.table(file_main, header = TRUE, sep = \"\\t\")\n",
    "df_main <- df_main[df_main$in_trios=='TRUE',]\n",
    "print(dim(df_main))\n",
    "head(df_main)\n",
    "\n",
    "df_main_female = df_main[df_main$sex=='Female',]\n",
    "print(dim(df_main_female))\n",
    "head(df_main_female)\n",
    "\n",
    "df_main_male = df_main[df_main$sex=='Male',]\n",
    "print(dim(df_main_male))\n",
    "head(df_main_male)"
   ]
  },
  {
   "cell_type": "code",
   "execution_count": 3,
   "id": "4b6d36e3-1b43-4f16-96d7-47ff020a2436",
   "metadata": {},
   "outputs": [
    {
     "name": "stdout",
     "output_type": "stream",
     "text": [
      "[1] \"female\"\n",
      "\n",
      "Call:\n",
      "glm(formula = Phenotype ~ mean_repeat_length + frac_hap_methyl, \n",
      "    family = binomial, data = df_main_female)\n",
      "\n",
      "Deviance Residuals: \n",
      "    Min       1Q   Median       3Q      Max  \n",
      "-0.9346  -0.7965  -0.6507  -0.5538   1.8244  \n",
      "\n",
      "Coefficients:\n",
      "                   Estimate Std. Error z value Pr(>|z|)\n",
      "(Intercept)        -0.23826    1.65285  -0.144    0.885\n",
      "mean_repeat_length -0.05141    0.06085  -0.845    0.398\n",
      "frac_hap_methyl     1.04794    1.04640   1.001    0.317\n",
      "\n",
      "(Dispersion parameter for binomial family taken to be 1)\n",
      "\n",
      "    Null deviance: 74.201  on 67  degrees of freedom\n",
      "Residual deviance: 72.884  on 65  degrees of freedom\n",
      "AIC: 78.884\n",
      "\n",
      "Number of Fisher Scoring iterations: 4\n",
      "\n",
      "[1] \"++++++++++++++++++ write result table...\"\n",
      "                     Estimate Std. Error z value Pr(>|z|)\n",
      "intercept            -0.23826    1.65285 -0.1442   0.8854\n",
      "cgg_repeat_length    -0.05141    0.06085 -0.8449   0.3982\n",
      "frac_hap_methyl_fmr1  1.04794    1.04640  1.0015   0.3166\n",
      "[1] \"plots/logit_model_asd_afo_cgg_methyl.tsv\"\n"
     ]
    }
   ],
   "source": [
    "### logistic regression: phenotype as function of CGG repeat length and FMR1 methylation fraction\n",
    "print('female')\n",
    "female_formula = as.formula('Phenotype ~ mean_repeat_length + frac_hap_methyl')\n",
    "female_model <- glm(Phenotype ~ mean_repeat_length + frac_hap_methyl, data = df_main_female, family = binomial)\n",
    "print(summary(female_model))\n",
    "\n",
    "print('++++++++++++++++++ write result table...')\n",
    "df_out <- as.data.frame(summary(female_model)$coefficients)\n",
    "rownames(df_out) <- c(\"intercept\", \"cgg_repeat_length\", \"frac_hap_methyl_fmr1\")\n",
    "# formating the columns with number of digits\n",
    "for (col in colnames(df_out)) {\n",
    "    df_out[col] = format(df_out[col], digits = 4, nsmall = 2)\n",
    "}\n",
    "print(df_out)\n",
    "file_out = paste0(dir_out, 'logit_model_asd_afo_cgg_methyl.tsv')\n",
    "print(file_out)\n",
    "write.table(df_out, file = file_out, sep = \"\\t\", row.names = TRUE, quote = FALSE)"
   ]
  }
 ],
 "metadata": {
  "kernelspec": {
   "display_name": "R",
   "language": "R",
   "name": "ir"
  },
  "language_info": {
   "codemirror_mode": "r",
   "file_extension": ".r",
   "mimetype": "text/x-r-source",
   "name": "R",
   "pygments_lexer": "r",
   "version": "4.0.2"
  }
 },
 "nbformat": 4,
 "nbformat_minor": 5
}
